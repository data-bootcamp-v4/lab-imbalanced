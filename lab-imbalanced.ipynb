{
 "cells": [
  {
   "cell_type": "markdown",
   "metadata": {},
   "source": [
    "# LAB | Imbalanced"
   ]
  },
  {
   "cell_type": "markdown",
   "metadata": {},
   "source": [
    "**Load the data**\n",
    "\n",
    "In this challenge, we will be working with Credit Card Fraud dataset.\n",
    "\n",
    "https://raw.githubusercontent.com/data-bootcamp-v4/data/main/card_transdata.csv\n",
    "\n",
    "Metadata\n",
    "\n",
    "- **distance_from_home:** the distance from home where the transaction happened.\n",
    "- **distance_from_last_transaction:** the distance from last transaction happened.\n",
    "- **ratio_to_median_purchase_price:** Ratio of purchased price transaction to median purchase price.\n",
    "- **repeat_retailer:** Is the transaction happened from same retailer.\n",
    "- **used_chip:** Is the transaction through chip (credit card).\n",
    "- **used_pin_number:** Is the transaction happened by using PIN number.\n",
    "- **online_order:** Is the transaction an online order.\n",
    "- **fraud:** Is the transaction fraudulent. **0=legit** -  **1=fraud**\n"
   ]
  },
  {
   "cell_type": "code",
   "execution_count": 5,
   "metadata": {},
   "outputs": [],
   "source": [
    "#Libraries\n",
    "import pandas as pd\n",
    "import numpy as np\n",
    "from sklearn.model_selection import train_test_split\n",
    "import seaborn as sns"
   ]
  },
  {
   "cell_type": "code",
   "execution_count": 6,
   "metadata": {},
   "outputs": [
    {
     "data": {
      "text/html": [
       "<div>\n",
       "<style scoped>\n",
       "    .dataframe tbody tr th:only-of-type {\n",
       "        vertical-align: middle;\n",
       "    }\n",
       "\n",
       "    .dataframe tbody tr th {\n",
       "        vertical-align: top;\n",
       "    }\n",
       "\n",
       "    .dataframe thead th {\n",
       "        text-align: right;\n",
       "    }\n",
       "</style>\n",
       "<table border=\"1\" class=\"dataframe\">\n",
       "  <thead>\n",
       "    <tr style=\"text-align: right;\">\n",
       "      <th></th>\n",
       "      <th>distance_from_home</th>\n",
       "      <th>distance_from_last_transaction</th>\n",
       "      <th>ratio_to_median_purchase_price</th>\n",
       "      <th>repeat_retailer</th>\n",
       "      <th>used_chip</th>\n",
       "      <th>used_pin_number</th>\n",
       "      <th>online_order</th>\n",
       "      <th>fraud</th>\n",
       "    </tr>\n",
       "  </thead>\n",
       "  <tbody>\n",
       "    <tr>\n",
       "      <th>0</th>\n",
       "      <td>57.877857</td>\n",
       "      <td>0.311140</td>\n",
       "      <td>1.945940</td>\n",
       "      <td>1.0</td>\n",
       "      <td>1.0</td>\n",
       "      <td>0.0</td>\n",
       "      <td>0.0</td>\n",
       "      <td>0.0</td>\n",
       "    </tr>\n",
       "    <tr>\n",
       "      <th>1</th>\n",
       "      <td>10.829943</td>\n",
       "      <td>0.175592</td>\n",
       "      <td>1.294219</td>\n",
       "      <td>1.0</td>\n",
       "      <td>0.0</td>\n",
       "      <td>0.0</td>\n",
       "      <td>0.0</td>\n",
       "      <td>0.0</td>\n",
       "    </tr>\n",
       "    <tr>\n",
       "      <th>2</th>\n",
       "      <td>5.091079</td>\n",
       "      <td>0.805153</td>\n",
       "      <td>0.427715</td>\n",
       "      <td>1.0</td>\n",
       "      <td>0.0</td>\n",
       "      <td>0.0</td>\n",
       "      <td>1.0</td>\n",
       "      <td>0.0</td>\n",
       "    </tr>\n",
       "    <tr>\n",
       "      <th>3</th>\n",
       "      <td>2.247564</td>\n",
       "      <td>5.600044</td>\n",
       "      <td>0.362663</td>\n",
       "      <td>1.0</td>\n",
       "      <td>1.0</td>\n",
       "      <td>0.0</td>\n",
       "      <td>1.0</td>\n",
       "      <td>0.0</td>\n",
       "    </tr>\n",
       "    <tr>\n",
       "      <th>4</th>\n",
       "      <td>44.190936</td>\n",
       "      <td>0.566486</td>\n",
       "      <td>2.222767</td>\n",
       "      <td>1.0</td>\n",
       "      <td>1.0</td>\n",
       "      <td>0.0</td>\n",
       "      <td>1.0</td>\n",
       "      <td>0.0</td>\n",
       "    </tr>\n",
       "  </tbody>\n",
       "</table>\n",
       "</div>"
      ],
      "text/plain": [
       "   distance_from_home  distance_from_last_transaction  \\\n",
       "0           57.877857                        0.311140   \n",
       "1           10.829943                        0.175592   \n",
       "2            5.091079                        0.805153   \n",
       "3            2.247564                        5.600044   \n",
       "4           44.190936                        0.566486   \n",
       "\n",
       "   ratio_to_median_purchase_price  repeat_retailer  used_chip  \\\n",
       "0                        1.945940              1.0        1.0   \n",
       "1                        1.294219              1.0        0.0   \n",
       "2                        0.427715              1.0        0.0   \n",
       "3                        0.362663              1.0        1.0   \n",
       "4                        2.222767              1.0        1.0   \n",
       "\n",
       "   used_pin_number  online_order  fraud  \n",
       "0              0.0           0.0    0.0  \n",
       "1              0.0           0.0    0.0  \n",
       "2              0.0           1.0    0.0  \n",
       "3              0.0           1.0    0.0  \n",
       "4              0.0           1.0    0.0  "
      ]
     },
     "execution_count": 6,
     "metadata": {},
     "output_type": "execute_result"
    }
   ],
   "source": [
    "fraud = pd.read_csv(\"https://raw.githubusercontent.com/data-bootcamp-v4/data/main/card_transdata.csv\")\n",
    "fraud.head()"
   ]
  },
  {
   "cell_type": "markdown",
   "metadata": {},
   "source": [
    "**Steps:**"
   ]
  },
  {
   "cell_type": "markdown",
   "metadata": {},
   "source": [
    "- **1.** What is the distribution of our target variable? Can we say we're dealing with an imbalanced dataset?\n",
    "- **2.** Train a LogisticRegression.\n",
    "- **3.** Evaluate your model. Take in consideration class importance, and evaluate it by selection the correct metric.\n",
    "- **4.** Run **Oversample** in order to balance our target variable and repeat the steps above, now with balanced data. Does it improve the performance of our model? \n",
    "- **5.** Now, run **Undersample** in order to balance our target variable and repeat the steps above (1-3), now with balanced data. Does it improve the performance of our model?\n",
    "- **6.** Finally, run **SMOTE** in order to balance our target variable and repeat the steps above (1-3), now with balanced data. Does it improve the performance of our model? "
   ]
  },
  {
   "cell_type": "markdown",
   "metadata": {},
   "source": []
  },
  {
   "cell_type": "code",
   "execution_count": 7,
   "metadata": {},
   "outputs": [
    {
     "data": {
      "text/plain": [
       "<Axes: xlabel='fraud', ylabel='Count'>"
      ]
     },
     "execution_count": 7,
     "metadata": {},
     "output_type": "execute_result"
    },
    {
     "data": {
      "image/png": "[encoded data removed]",
      "text/plain": [
       "<Figure size 640x480 with 1 Axes>"
      ]
     },
     "metadata": {},
     "output_type": "display_data"
    }
   ],
   "source": [
    "fraud[\"fraud\"].value_counts()\n",
    "sns.histplot(data=fraud[\"fraud\"], color= \"brown\")\n",
    "# imbalanced results"
   ]
  },
  {
   "cell_type": "code",
   "execution_count": 8,
   "metadata": {},
   "outputs": [],
   "source": [
    "import pandas as pd\n",
    "import numpy as np\n",
    "\n",
    "import matplotlib.pyplot as plt\n",
    "import seaborn as sns\n",
    "\n",
    "from sklearn.model_selection import train_test_split\n",
    "from sklearn.linear_model import LinearRegression\n",
    "from sklearn.tree import DecisionTreeRegressor\n",
    "\n",
    "from sklearn.preprocessing import MinMaxScaler, StandardScaler\n",
    "from sklearn.metrics import r2_score, mean_absolute_error, mean_squared_error\n",
    "\n",
    "features=fraud.drop(columns=[\"fraud\"])\n",
    "target=fraud[\"fraud\"]\n"
   ]
  },
  {
   "cell_type": "code",
   "execution_count": 9,
   "metadata": {},
   "outputs": [],
   "source": [
    "x_train,x_test,y_train,y_test=train_test_split(features, target, test_size=0.20,random_state=0)"
   ]
  },
  {
   "cell_type": "code",
   "execution_count": 10,
   "metadata": {},
   "outputs": [
    {
     "data": {
      "text/html": [
       "<div>\n",
       "<style scoped>\n",
       "    .dataframe tbody tr th:only-of-type {\n",
       "        vertical-align: middle;\n",
       "    }\n",
       "\n",
       "    .dataframe tbody tr th {\n",
       "        vertical-align: top;\n",
       "    }\n",
       "\n",
       "    .dataframe thead th {\n",
       "        text-align: right;\n",
       "    }\n",
       "</style>\n",
       "<table border=\"1\" class=\"dataframe\">\n",
       "  <thead>\n",
       "    <tr style=\"text-align: right;\">\n",
       "      <th></th>\n",
       "      <th>distance_from_home</th>\n",
       "      <th>distance_from_last_transaction</th>\n",
       "      <th>ratio_to_median_purchase_price</th>\n",
       "      <th>repeat_retailer</th>\n",
       "      <th>used_chip</th>\n",
       "      <th>used_pin_number</th>\n",
       "      <th>online_order</th>\n",
       "    </tr>\n",
       "  </thead>\n",
       "  <tbody>\n",
       "    <tr>\n",
       "      <th>0</th>\n",
       "      <td>-0.357077</td>\n",
       "      <td>-0.150122</td>\n",
       "      <td>-0.423839</td>\n",
       "      <td>0.366318</td>\n",
       "      <td>1.361603</td>\n",
       "      <td>-0.334533</td>\n",
       "      <td>0.73251</td>\n",
       "    </tr>\n",
       "    <tr>\n",
       "      <th>1</th>\n",
       "      <td>0.194157</td>\n",
       "      <td>-0.185739</td>\n",
       "      <td>-0.433963</td>\n",
       "      <td>0.366318</td>\n",
       "      <td>1.361603</td>\n",
       "      <td>-0.334533</td>\n",
       "      <td>0.73251</td>\n",
       "    </tr>\n",
       "    <tr>\n",
       "      <th>2</th>\n",
       "      <td>0.443734</td>\n",
       "      <td>-0.150915</td>\n",
       "      <td>-0.484329</td>\n",
       "      <td>0.366318</td>\n",
       "      <td>-0.734428</td>\n",
       "      <td>-0.334533</td>\n",
       "      <td>0.73251</td>\n",
       "    </tr>\n",
       "    <tr>\n",
       "      <th>3</th>\n",
       "      <td>-0.402217</td>\n",
       "      <td>-0.166800</td>\n",
       "      <td>-0.460903</td>\n",
       "      <td>-2.729870</td>\n",
       "      <td>1.361603</td>\n",
       "      <td>-0.334533</td>\n",
       "      <td>-1.36517</td>\n",
       "    </tr>\n",
       "    <tr>\n",
       "      <th>4</th>\n",
       "      <td>-0.070140</td>\n",
       "      <td>-0.185709</td>\n",
       "      <td>-0.414141</td>\n",
       "      <td>0.366318</td>\n",
       "      <td>1.361603</td>\n",
       "      <td>-0.334533</td>\n",
       "      <td>-1.36517</td>\n",
       "    </tr>\n",
       "    <tr>\n",
       "      <th>...</th>\n",
       "      <td>...</td>\n",
       "      <td>...</td>\n",
       "      <td>...</td>\n",
       "      <td>...</td>\n",
       "      <td>...</td>\n",
       "      <td>...</td>\n",
       "      <td>...</td>\n",
       "    </tr>\n",
       "    <tr>\n",
       "      <th>799995</th>\n",
       "      <td>0.686916</td>\n",
       "      <td>-0.071705</td>\n",
       "      <td>-0.606513</td>\n",
       "      <td>0.366318</td>\n",
       "      <td>-0.734428</td>\n",
       "      <td>-0.334533</td>\n",
       "      <td>0.73251</td>\n",
       "    </tr>\n",
       "    <tr>\n",
       "      <th>799996</th>\n",
       "      <td>-0.359697</td>\n",
       "      <td>0.294316</td>\n",
       "      <td>0.106885</td>\n",
       "      <td>0.366318</td>\n",
       "      <td>-0.734428</td>\n",
       "      <td>-0.334533</td>\n",
       "      <td>0.73251</td>\n",
       "    </tr>\n",
       "    <tr>\n",
       "      <th>799997</th>\n",
       "      <td>0.002457</td>\n",
       "      <td>-0.023525</td>\n",
       "      <td>-0.477266</td>\n",
       "      <td>0.366318</td>\n",
       "      <td>-0.734428</td>\n",
       "      <td>2.989238</td>\n",
       "      <td>-1.36517</td>\n",
       "    </tr>\n",
       "    <tr>\n",
       "      <th>799998</th>\n",
       "      <td>-0.223923</td>\n",
       "      <td>-0.185220</td>\n",
       "      <td>-0.010973</td>\n",
       "      <td>0.366318</td>\n",
       "      <td>-0.734428</td>\n",
       "      <td>-0.334533</td>\n",
       "      <td>0.73251</td>\n",
       "    </tr>\n",
       "    <tr>\n",
       "      <th>799999</th>\n",
       "      <td>0.350306</td>\n",
       "      <td>-0.167276</td>\n",
       "      <td>0.498380</td>\n",
       "      <td>0.366318</td>\n",
       "      <td>1.361603</td>\n",
       "      <td>-0.334533</td>\n",
       "      <td>-1.36517</td>\n",
       "    </tr>\n",
       "  </tbody>\n",
       "</table>\n",
       "<p>800000 rows × 7 columns</p>\n",
       "</div>"
      ],
      "text/plain": [
       "        distance_from_home  distance_from_last_transaction  \\\n",
       "0                -0.357077                       -0.150122   \n",
       "1                 0.194157                       -0.185739   \n",
       "2                 0.443734                       -0.150915   \n",
       "3                -0.402217                       -0.166800   \n",
       "4                -0.070140                       -0.185709   \n",
       "...                    ...                             ...   \n",
       "799995            0.686916                       -0.071705   \n",
       "799996           -0.359697                        0.294316   \n",
       "799997            0.002457                       -0.023525   \n",
       "799998           -0.223923                       -0.185220   \n",
       "799999            0.350306                       -0.167276   \n",
       "\n",
       "        ratio_to_median_purchase_price  repeat_retailer  used_chip  \\\n",
       "0                            -0.423839         0.366318   1.361603   \n",
       "1                            -0.433963         0.366318   1.361603   \n",
       "2                            -0.484329         0.366318  -0.734428   \n",
       "3                            -0.460903        -2.729870   1.361603   \n",
       "4                            -0.414141         0.366318   1.361603   \n",
       "...                                ...              ...        ...   \n",
       "799995                       -0.606513         0.366318  -0.734428   \n",
       "799996                        0.106885         0.366318  -0.734428   \n",
       "799997                       -0.477266         0.366318  -0.734428   \n",
       "799998                       -0.010973         0.366318  -0.734428   \n",
       "799999                        0.498380         0.366318   1.361603   \n",
       "\n",
       "        used_pin_number  online_order  \n",
       "0             -0.334533       0.73251  \n",
       "1             -0.334533       0.73251  \n",
       "2             -0.334533       0.73251  \n",
       "3             -0.334533      -1.36517  \n",
       "4             -0.334533      -1.36517  \n",
       "...                 ...           ...  \n",
       "799995        -0.334533       0.73251  \n",
       "799996        -0.334533       0.73251  \n",
       "799997         2.989238      -1.36517  \n",
       "799998        -0.334533       0.73251  \n",
       "799999        -0.334533      -1.36517  \n",
       "\n",
       "[800000 rows x 7 columns]"
      ]
     },
     "execution_count": 10,
     "metadata": {},
     "output_type": "execute_result"
    }
   ],
   "source": [
    "standardizer=StandardScaler()\n",
    "standardizer.fit(x_train)\n",
    "x_train_st = standardizer.transform(x_train)\n",
    "x_test_st= standardizer.transform(x_test)\n",
    "pd.DataFrame(x_train_st, columns=x_train.columns)\n"
   ]
  },
  {
   "cell_type": "code",
   "execution_count": 11,
   "metadata": {},
   "outputs": [
    {
     "data": {
      "text/plain": [
       "0.23365162305341472"
      ]
     },
     "execution_count": 11,
     "metadata": {},
     "output_type": "execute_result"
    }
   ],
   "source": [
    "LR = LinearRegression()\n",
    "LR.fit(x_train_st,y_train)\n",
    "pred=LR.predict(x_test_st)\n",
    "np.sqrt(mean_squared_error(y_test,pred))\n"
   ]
  },
  {
   "cell_type": "code",
   "execution_count": 12,
   "metadata": {},
   "outputs": [
    {
     "data": {
      "text/plain": [
       "0.3121615437681776"
      ]
     },
     "execution_count": 12,
     "metadata": {},
     "output_type": "execute_result"
    }
   ],
   "source": [
    "LR.score(x_test_st, y_test)\n",
    "\n",
    "#poor results"
   ]
  },
  {
   "cell_type": "code",
   "execution_count": 13,
   "metadata": {},
   "outputs": [
    {
     "name": "stdout",
     "output_type": "stream",
     "text": [
      "Requirement already satisfied: imbalanced-learn in c:\\users\\valte\\documents\\bootcamp\\lib\\site-packages (0.11.0)\n",
      "Requirement already satisfied: numpy>=1.17.3 in c:\\users\\valte\\documents\\bootcamp\\lib\\site-packages (from imbalanced-learn) (1.26.4)\n",
      "Requirement already satisfied: scipy>=1.5.0 in c:\\users\\valte\\documents\\bootcamp\\lib\\site-packages (from imbalanced-learn) (1.11.4)\n",
      "Requirement already satisfied: scikit-learn>=1.0.2 in c:\\users\\valte\\documents\\bootcamp\\lib\\site-packages (from imbalanced-learn) (1.2.2)\n",
      "Requirement already satisfied: joblib>=1.1.1 in c:\\users\\valte\\documents\\bootcamp\\lib\\site-packages (from imbalanced-learn) (1.2.0)\n",
      "Requirement already satisfied: threadpoolctl>=2.0.0 in c:\\users\\valte\\documents\\bootcamp\\lib\\site-packages (from imbalanced-learn) (2.2.0)\n"
     ]
    }
   ],
   "source": [
    "!pip install imbalanced-learn\n"
   ]
  },
  {
   "cell_type": "code",
   "execution_count": 14,
   "metadata": {},
   "outputs": [],
   "source": [
    "\n",
    "from imblearn.over_sampling import RandomOverSampler, SMOTE\n",
    "from imblearn.under_sampling import RandomUnderSampler"
   ]
  },
  {
   "cell_type": "code",
   "execution_count": 15,
   "metadata": {},
   "outputs": [
    {
     "name": "stdout",
     "output_type": "stream",
     "text": [
      "Oversampling RMSE: 0.3602807951714486\n",
      "Oversampling R^2 Score: -0.6354266627690053\n"
     ]
    }
   ],
   "source": [
    "# OverSampling\n",
    "\n",
    "ros = RandomOverSampler(random_state=0)\n",
    "x_train_ros, y_train_ros = ros.fit_resample(x_train_st, y_train)\n",
    "\n",
    "LR_ros = LinearRegression()\n",
    "LR_ros.fit(x_train_ros, y_train_ros)\n",
    "pred_ros = LR_ros.predict(x_test_st)\n",
    "\n",
    "print(\"Oversampling RMSE:\", np.sqrt(mean_squared_error(y_test, pred_ros)))\n",
    "print(\"Oversampling R^2 Score:\", LR_ros.score(x_test_st, y_test))"
   ]
  },
  {
   "cell_type": "code",
   "execution_count": 19,
   "metadata": {},
   "outputs": [
    {
     "name": "stdout",
     "output_type": "stream",
     "text": [
      "Undersampling RMSE: 0.3600310892800641\n",
      "Undersampling R^2 Score: -0.6331604628594791\n"
     ]
    }
   ],
   "source": [
    "#UnderSampling\n",
    "rus = RandomUnderSampler(random_state=0)\n",
    "x_train_rus, y_train_rus = rus.fit_resample(x_train_st, y_train)\n",
    "\n",
    "LR_rus = LinearRegression()\n",
    "LR_rus.fit(x_train_rus, y_train_rus)\n",
    "pred_rus = LR_rus.predict(x_test_st)\n",
    "\n",
    "print(\"Undersampling RMSE:\", np.sqrt(mean_squared_error(y_test, pred_rus)))\n",
    "print(\"Undersampling R^2 Score:\", LR_rus.score(x_test_st, y_test))"
   ]
  },
  {
   "cell_type": "code",
   "execution_count": 20,
   "metadata": {},
   "outputs": [
    {
     "name": "stdout",
     "output_type": "stream",
     "text": [
      "SMOTE RMSE: 0.35949168849692903\n",
      "SMOTE R^2 Score: -0.6282705066697243\n"
     ]
    }
   ],
   "source": [
    "#SMOTE\n",
    "smote = SMOTE(random_state=0)\n",
    "x_train_smote, y_train_smote = smote.fit_resample(x_train_st, y_train)\n",
    "\n",
    "LR_smote = LinearRegression()\n",
    "LR_smote.fit(x_train_smote, y_train_smote)\n",
    "pred_smote = LR_smote.predict(x_test_st)\n",
    "\n",
    "print(\"SMOTE RMSE:\", np.sqrt(mean_squared_error(y_test, pred_smote)))\n",
    "print(\"SMOTE R^2 Score:\", LR_smote.score(x_test_st, y_test))"
   ]
  },
  {
   "cell_type": "code",
   "execution_count": null,
   "metadata": {},
   "outputs": [],
   "source": []
  }
 ],
 "metadata": {
  "kernelspec": {
   "display_name": "Python 3",
   "language": "python",
   "name": "python3"
  },
  "language_info": {
   "codemirror_mode": {
    "name": "ipython",
    "version": 3
   },
   "file_extension": ".py",
   "mimetype": "text/x-python",
   "name": "python",
   "nbconvert_exporter": "python",
   "pygments_lexer": "ipython3",
   "version": "3.11.7"
  }
 },
 "nbformat": 4,
 "nbformat_minor": 2
}
