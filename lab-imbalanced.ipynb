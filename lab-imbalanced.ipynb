{
 "cells": [
  {
   "cell_type": "markdown",
   "metadata": {},
   "source": [
    "# LAB | Imbalanced"
   ]
  },
  {
   "cell_type": "markdown",
   "metadata": {},
   "source": [
    "**Load the data**\n",
    "\n",
    "In this challenge, we will be working with Credit Card Fraud dataset.\n",
    "\n",
    "https://raw.githubusercontent.com/data-bootcamp-v4/data/main/card_transdata.csv\n",
    "\n",
    "Metadata\n",
    "\n",
    "- **distance_from_home:** the distance from home where the transaction happened.\n",
    "- **distance_from_last_transaction:** the distance from last transaction happened.\n",
    "- **ratio_to_median_purchase_price:** Ratio of purchased price transaction to median purchase price.\n",
    "- **repeat_retailer:** Is the transaction happened from same retailer.\n",
    "- **used_chip:** Is the transaction through chip (credit card).\n",
    "- **used_pin_number:** Is the transaction happened by using PIN number.\n",
    "- **online_order:** Is the transaction an online order.\n",
    "- **fraud:** Is the transaction fraudulent. **0=legit** -  **1=fraud**\n"
   ]
  },
  {
   "cell_type": "code",
   "execution_count": 74,
   "metadata": {},
   "outputs": [],
   "source": [
    "#Libraries\n",
    "import pandas as pd\n",
    "import numpy as np\n",
    "import matplotlib.pyplot as plt\n",
    "from sklearn.model_selection import train_test_split\n",
    "from sklearn.linear_model import LogisticRegression\n",
    "from sklearn.preprocessing import StandardScaler\n",
    "from sklearn.metrics import precision_score, recall_score, classification_report, confusion_matrix, f1_score\n",
    "from sklearn.utils import resample"
   ]
  },
  {
   "cell_type": "code",
   "execution_count": 75,
   "metadata": {},
   "outputs": [
    {
     "data": {
      "text/html": [
       "<div>\n",
       "<style scoped>\n",
       "    .dataframe tbody tr th:only-of-type {\n",
       "        vertical-align: middle;\n",
       "    }\n",
       "\n",
       "    .dataframe tbody tr th {\n",
       "        vertical-align: top;\n",
       "    }\n",
       "\n",
       "    .dataframe thead th {\n",
       "        text-align: right;\n",
       "    }\n",
       "</style>\n",
       "<table border=\"1\" class=\"dataframe\">\n",
       "  <thead>\n",
       "    <tr style=\"text-align: right;\">\n",
       "      <th></th>\n",
       "      <th>distance_from_home</th>\n",
       "      <th>distance_from_last_transaction</th>\n",
       "      <th>ratio_to_median_purchase_price</th>\n",
       "      <th>repeat_retailer</th>\n",
       "      <th>used_chip</th>\n",
       "      <th>used_pin_number</th>\n",
       "      <th>online_order</th>\n",
       "      <th>fraud</th>\n",
       "    </tr>\n",
       "  </thead>\n",
       "  <tbody>\n",
       "    <tr>\n",
       "      <th>0</th>\n",
       "      <td>57.877857</td>\n",
       "      <td>0.311140</td>\n",
       "      <td>1.945940</td>\n",
       "      <td>1.0</td>\n",
       "      <td>1.0</td>\n",
       "      <td>0.0</td>\n",
       "      <td>0.0</td>\n",
       "      <td>0.0</td>\n",
       "    </tr>\n",
       "    <tr>\n",
       "      <th>1</th>\n",
       "      <td>10.829943</td>\n",
       "      <td>0.175592</td>\n",
       "      <td>1.294219</td>\n",
       "      <td>1.0</td>\n",
       "      <td>0.0</td>\n",
       "      <td>0.0</td>\n",
       "      <td>0.0</td>\n",
       "      <td>0.0</td>\n",
       "    </tr>\n",
       "    <tr>\n",
       "      <th>2</th>\n",
       "      <td>5.091079</td>\n",
       "      <td>0.805153</td>\n",
       "      <td>0.427715</td>\n",
       "      <td>1.0</td>\n",
       "      <td>0.0</td>\n",
       "      <td>0.0</td>\n",
       "      <td>1.0</td>\n",
       "      <td>0.0</td>\n",
       "    </tr>\n",
       "    <tr>\n",
       "      <th>3</th>\n",
       "      <td>2.247564</td>\n",
       "      <td>5.600044</td>\n",
       "      <td>0.362663</td>\n",
       "      <td>1.0</td>\n",
       "      <td>1.0</td>\n",
       "      <td>0.0</td>\n",
       "      <td>1.0</td>\n",
       "      <td>0.0</td>\n",
       "    </tr>\n",
       "    <tr>\n",
       "      <th>4</th>\n",
       "      <td>44.190936</td>\n",
       "      <td>0.566486</td>\n",
       "      <td>2.222767</td>\n",
       "      <td>1.0</td>\n",
       "      <td>1.0</td>\n",
       "      <td>0.0</td>\n",
       "      <td>1.0</td>\n",
       "      <td>0.0</td>\n",
       "    </tr>\n",
       "  </tbody>\n",
       "</table>\n",
       "</div>"
      ],
      "text/plain": [
       "   distance_from_home  distance_from_last_transaction  \\\n",
       "0           57.877857                        0.311140   \n",
       "1           10.829943                        0.175592   \n",
       "2            5.091079                        0.805153   \n",
       "3            2.247564                        5.600044   \n",
       "4           44.190936                        0.566486   \n",
       "\n",
       "   ratio_to_median_purchase_price  repeat_retailer  used_chip  \\\n",
       "0                        1.945940              1.0        1.0   \n",
       "1                        1.294219              1.0        0.0   \n",
       "2                        0.427715              1.0        0.0   \n",
       "3                        0.362663              1.0        1.0   \n",
       "4                        2.222767              1.0        1.0   \n",
       "\n",
       "   used_pin_number  online_order  fraud  \n",
       "0              0.0           0.0    0.0  \n",
       "1              0.0           0.0    0.0  \n",
       "2              0.0           1.0    0.0  \n",
       "3              0.0           1.0    0.0  \n",
       "4              0.0           1.0    0.0  "
      ]
     },
     "execution_count": 75,
     "metadata": {},
     "output_type": "execute_result"
    }
   ],
   "source": [
    "fraud = pd.read_csv(\"https://raw.githubusercontent.com/data-bootcamp-v4/data/main/card_transdata.csv\")\n",
    "fraud.head()"
   ]
  },
  {
   "cell_type": "markdown",
   "metadata": {},
   "source": [
    "**Steps:**"
   ]
  },
  {
   "cell_type": "markdown",
   "metadata": {},
   "source": [
    "- **1.** What is the distribution of our target variable? Can we say we're dealing with an imbalanced dataset?\n",
    "- **2.** Train a LogisticRegression.\n",
    "- **3.** Evaluate your model. Take in consideration class importance, and evaluate it by selection the correct metric.\n",
    "- **4.** Run **Oversample** in order to balance our target variable and repeat the steps above, now with balanced data. Does it improve the performance of our model? \n",
    "- **5.** Now, run **Undersample** in order to balance our target variable and repeat the steps above (1-3), now with balanced data. Does it improve the performance of our model?\n",
    "- **6.** Finally, run **SMOTE** in order to balance our target variable and repeat the steps above (1-3), now with balanced data. Does it improve the performance of our model? "
   ]
  },
  {
   "cell_type": "markdown",
   "metadata": {},
   "source": []
  },
  {
   "cell_type": "code",
   "execution_count": 76,
   "metadata": {},
   "outputs": [
    {
     "data": {
      "image/png": "[encoded data removed]",
      "text/plain": [
       "<Figure size 640x480 with 1 Axes>"
      ]
     },
     "metadata": {},
     "output_type": "display_data"
    }
   ],
   "source": [
    "# The data is very imbalanced as shown by the plot.\n",
    "survived = fraud[\"fraud\"].value_counts()\n",
    "survived.plot(kind=\"bar\")\n",
    "plt.show()"
   ]
  },
  {
   "cell_type": "code",
   "execution_count": 77,
   "metadata": {},
   "outputs": [
    {
     "name": "stderr",
     "output_type": "stream",
     "text": [
      "c:\\Users\\carlo\\anaconda3\\Lib\\site-packages\\sklearn\\base.py:486: UserWarning: X has feature names, but LogisticRegression was fitted without feature names\n",
      "  warnings.warn(\n",
      "c:\\Users\\carlo\\anaconda3\\Lib\\site-packages\\sklearn\\base.py:486: UserWarning: X has feature names, but LogisticRegression was fitted without feature names\n",
      "  warnings.warn(\n",
      "c:\\Users\\carlo\\anaconda3\\Lib\\site-packages\\sklearn\\base.py:486: UserWarning: X has feature names, but LogisticRegression was fitted without feature names\n",
      "  warnings.warn(\n"
     ]
    },
    {
     "name": "stdout",
     "output_type": "stream",
     "text": [
      "Overfeed: 0.18025466666666667 Accuracy: 0.179564 Difference:  0.0006906666666666728 \n",
      "               precision    recall  f1-score   support\n",
      "\n",
      "         0.0       1.00      0.10      0.18    228232\n",
      "         1.0       0.10      1.00      0.18     21768\n",
      "\n",
      "    accuracy                           0.18    250000\n",
      "   macro avg       0.55      0.55      0.18    250000\n",
      "weighted avg       0.92      0.18      0.18    250000\n",
      "\n"
     ]
    }
   ],
   "source": [
    "features = fraud.drop(columns = [\"fraud\"])\n",
    "target = fraud[\"fraud\"]\n",
    "\n",
    "X_train, X_test, y_train, y_test = train_test_split(features, target)\n",
    "scaler = StandardScaler()\n",
    "scaler.fit(X_train)\n",
    "\n",
    "X_train_scaled = scaler.transform(X_train)\n",
    "X_test_scaled = scaler.transform(X_test)\n",
    "log_reg = LogisticRegression(max_iter=1000)\n",
    "log_reg.fit(X_train_scaled, y_train)\n",
    "log_reg_overfeed = log_reg.score(X_train, y_train)\n",
    "log_reg_acc = log_reg.score(X_test, y_test)\n",
    "log_reg_pred = log_reg.predict(X_test)\n",
    "log_reg_rec_prec = classification_report(y_test, log_reg_pred)\n",
    "print(\"Overfeed:\",log_reg_overfeed, \"Accuracy:\", log_reg_acc, \"Difference: \",log_reg_overfeed-log_reg_acc, \"\\n\", log_reg_rec_prec)"
   ]
  },
  {
   "cell_type": "code",
   "execution_count": 78,
   "metadata": {},
   "outputs": [],
   "source": [
    "# OVERSAMPLING\n",
    "fraud_fraud = fraud[fraud[\"fraud\"] == 1]\n",
    "fraud_legit = fraud[fraud[\"fraud\"] == 0]\n",
    "sample = resample(fraud_fraud, \n",
    "                replace=True,\n",
    "                n_samples = len(fraud_legit),\n",
    "                random_state= 0)\n",
    "trainsample = pd.concat([sample, fraud_legit])"
   ]
  },
  {
   "cell_type": "code",
   "execution_count": 79,
   "metadata": {},
   "outputs": [
    {
     "data": {
      "image/png": "[encoded data removed]",
      "text/plain": [
       "<Figure size 640x480 with 1 Axes>"
      ]
     },
     "metadata": {},
     "output_type": "display_data"
    }
   ],
   "source": [
    "sample_plot = trainsample[\"fraud\"].value_counts()\n",
    "sample_plot.plot(kind=\"bar\")\n",
    "plt.show()"
   ]
  },
  {
   "cell_type": "code",
   "execution_count": 87,
   "metadata": {},
   "outputs": [
    {
     "name": "stdout",
     "output_type": "stream",
     "text": [
      "Overfeed: 0.9408923106256102 Accuracy: 0.933948 Difference:  0.006944310625610184 \n",
      "               precision    recall  f1-score   support\n",
      "\n",
      "         0.0       0.99      0.93      0.96    228232\n",
      "         1.0       0.57      0.95      0.71     21768\n",
      "\n",
      "    accuracy                           0.93    250000\n",
      "   macro avg       0.78      0.94      0.84    250000\n",
      "weighted avg       0.96      0.93      0.94    250000\n",
      "\n",
      "The model shows great improvement as can be seen by the accuracy score below\n"
     ]
    }
   ],
   "source": [
    "X_train_over = trainsample.drop(columns = [\"fraud\"])\n",
    "y_train_over = trainsample[\"fraud\"]\n",
    "\n",
    "\n",
    "log_reg = LogisticRegression(max_iter=1000)\n",
    "log_reg.fit(X_train_over, y_train_over)\n",
    "log_reg_overfeed = log_reg.score(X_train_over, y_train_over)\n",
    "log_reg_acc = log_reg.score(X_test, y_test)\n",
    "log_reg_pred = log_reg.predict(X_test)\n",
    "log_reg_rec_prec = classification_report(y_pred = log_reg_pred, y_true = y_test)\n",
    "print(\"Overfeed:\",log_reg_overfeed, \"Accuracy:\", log_reg_acc, \"Difference: \",log_reg_overfeed-log_reg_acc, \"\\n\", log_reg_rec_prec)\n",
    "print(\"The model shows great improvement as can be seen by the accuracy score above\")"
   ]
  },
  {
   "cell_type": "code",
   "execution_count": 81,
   "metadata": {},
   "outputs": [],
   "source": [
    "# UNDERSAMPLING\n",
    "fraud_fraud = fraud[fraud[\"fraud\"] == 1]\n",
    "fraud_legit = fraud[fraud[\"fraud\"] == 0]\n",
    "sample = resample(fraud_legit, \n",
    "                replace=False,\n",
    "                n_samples = len(fraud_fraud),\n",
    "                random_state= 0)\n",
    "trainsample_under = pd.concat([sample, fraud_fraud])"
   ]
  },
  {
   "cell_type": "code",
   "execution_count": 82,
   "metadata": {},
   "outputs": [
    {
     "data": {
      "image/png": "[encoded data removed]",
      "text/plain": [
       "<Figure size 640x480 with 1 Axes>"
      ]
     },
     "metadata": {},
     "output_type": "display_data"
    }
   ],
   "source": [
    "sample_plot = trainsample_under[\"fraud\"].value_counts()\n",
    "sample_plot.plot(kind=\"bar\")\n",
    "plt.show()"
   ]
  },
  {
   "cell_type": "code",
   "execution_count": 88,
   "metadata": {},
   "outputs": [
    {
     "name": "stdout",
     "output_type": "stream",
     "text": [
      "Overfeed: 0.9408315504044483 Accuracy: 0.934228 Difference:  0.006603550404448377 \n",
      "               precision    recall  f1-score   support\n",
      "\n",
      "         0.0       0.99      0.93      0.96    228232\n",
      "         1.0       0.57      0.95      0.71     21768\n",
      "\n",
      "    accuracy                           0.93    250000\n",
      "   macro avg       0.78      0.94      0.84    250000\n",
      "weighted avg       0.96      0.93      0.94    250000\n",
      "\n",
      "The model shows very little difference from the module using oversampling, slight improvement on difference between test and train scores.\n"
     ]
    }
   ],
   "source": [
    "X_train_under = trainsample_under.drop(columns = [\"fraud\"])\n",
    "y_train_under = trainsample_under[\"fraud\"]\n",
    "\n",
    "\n",
    "log_reg = LogisticRegression(max_iter=1000)\n",
    "log_reg.fit(X_train_under, y_train_under)\n",
    "log_reg_overfeed = log_reg.score(X_train_under, y_train_under)\n",
    "log_reg_acc = log_reg.score(X_test, y_test)\n",
    "log_reg_pred = log_reg.predict(X_test)\n",
    "log_reg_rec_prec = classification_report(y_pred = log_reg_pred, y_true = y_test)\n",
    "print(\"Overfeed:\",log_reg_overfeed, \"Accuracy:\", log_reg_acc, \"Difference: \",log_reg_overfeed-log_reg_acc, \"\\n\", log_reg_rec_prec)\n",
    "print(\"The model shows very little difference from the module using oversampling, slight improvement on difference between test and train scores.\")"
   ]
  },
  {
   "cell_type": "code",
   "execution_count": 84,
   "metadata": {},
   "outputs": [],
   "source": [
    "# SMOTE\n",
    "from imblearn.over_sampling import SMOTE"
   ]
  },
  {
   "cell_type": "code",
   "execution_count": 85,
   "metadata": {},
   "outputs": [
    {
     "name": "stdout",
     "output_type": "stream",
     "text": [
      "fraud\n",
      "0.0    684365\n",
      "1.0     65635\n",
      "Name: count, dtype: int64\n",
      "fraud\n",
      "0.0    684365\n",
      "1.0    684365\n",
      "Name: count, dtype: int64\n"
     ]
    }
   ],
   "source": [
    "sm = SMOTE(random_state = 1, sampling_strategy=1.0)\n",
    "X_train_sm,y_train_sm = sm.fit_resample(X_train_scaled,y_train)\n",
    "print(y_train.value_counts())\n",
    "print(y_train_sm.value_counts())"
   ]
  },
  {
   "cell_type": "code",
   "execution_count": 89,
   "metadata": {},
   "outputs": [
    {
     "name": "stderr",
     "output_type": "stream",
     "text": [
      "c:\\Users\\carlo\\anaconda3\\Lib\\site-packages\\sklearn\\base.py:486: UserWarning: X has feature names, but LogisticRegression was fitted without feature names\n",
      "  warnings.warn(\n",
      "c:\\Users\\carlo\\anaconda3\\Lib\\site-packages\\sklearn\\base.py:486: UserWarning: X has feature names, but LogisticRegression was fitted without feature names\n",
      "  warnings.warn(\n"
     ]
    },
    {
     "name": "stdout",
     "output_type": "stream",
     "text": [
      "Overfeed: 0.941439144316264 Accuracy: 0.096204 Difference:  0.845235144316264 \n",
      "               precision    recall  f1-score   support\n",
      "\n",
      "         0.0       1.00      0.01      0.02    228232\n",
      "         1.0       0.09      1.00      0.16     21768\n",
      "\n",
      "    accuracy                           0.10    250000\n",
      "   macro avg       0.54      0.51      0.09    250000\n",
      "weighted avg       0.92      0.10      0.03    250000\n",
      "\n",
      "SMOTE sampling method is not advisable for this set of data as accuracy greatly decreases.\n"
     ]
    }
   ],
   "source": [
    "log_reg = LogisticRegression(max_iter=1000)\n",
    "log_reg.fit(X_train_sm, y_train_sm)\n",
    "log_reg_overfeed = log_reg.score(X_train_sm, y_train_sm)\n",
    "log_reg_acc = log_reg.score(X_test, y_test)\n",
    "log_reg_pred = log_reg.predict(X_test)\n",
    "log_reg_rec_prec = classification_report(y_pred = log_reg_pred, y_true = y_test)\n",
    "print(\"Overfeed:\",log_reg_overfeed, \"Accuracy:\", log_reg_acc, \"Difference: \",log_reg_overfeed-log_reg_acc, \"\\n\", log_reg_rec_prec)\n",
    "print(\"SMOTE sampling method is not advisable for this set of data as accuracy greatly decreases.\")"
   ]
  }
 ],
 "metadata": {
  "kernelspec": {
   "display_name": "Python 3",
   "language": "python",
   "name": "python3"
  },
  "language_info": {
   "codemirror_mode": {
    "name": "ipython",
    "version": 3
   },
   "file_extension": ".py",
   "mimetype": "text/x-python",
   "name": "python",
   "nbconvert_exporter": "python",
   "pygments_lexer": "ipython3",
   "version": "3.11.5"
  }
 },
 "nbformat": 4,
 "nbformat_minor": 2
}
